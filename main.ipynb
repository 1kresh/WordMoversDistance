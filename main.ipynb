{
 "cells": [
  {
   "cell_type": "code",
   "execution_count": 1,
   "metadata": {},
   "outputs": [
    {
     "name": "stdout",
     "output_type": "stream",
     "text": [
      "Requirement already satisfied: spacy in c:\\users\\andre\\anaconda3\\lib\\site-packages (3.5.2)\n",
      "Requirement already satisfied: catalogue<2.1.0,>=2.0.6 in c:\\users\\andre\\anaconda3\\lib\\site-packages (from spacy) (2.0.8)\n",
      "Requirement already satisfied: packaging>=20.0 in c:\\users\\andre\\anaconda3\\lib\\site-packages (from spacy) (23.0)\n",
      "Requirement already satisfied: murmurhash<1.1.0,>=0.28.0 in c:\\users\\andre\\anaconda3\\lib\\site-packages (from spacy) (1.0.9)\n",
      "Requirement already satisfied: requests<3.0.0,>=2.13.0 in c:\\users\\andre\\anaconda3\\lib\\site-packages (from spacy) (2.28.1)\n",
      "Requirement already satisfied: wasabi<1.2.0,>=0.9.1 in c:\\users\\andre\\anaconda3\\lib\\site-packages (from spacy) (1.1.1)\n",
      "Requirement already satisfied: srsly<3.0.0,>=2.4.3 in c:\\users\\andre\\anaconda3\\lib\\site-packages (from spacy) (2.4.6)\n",
      "Requirement already satisfied: thinc<8.2.0,>=8.1.8 in c:\\users\\andre\\anaconda3\\lib\\site-packages (from spacy) (8.1.9)\n",
      "Requirement already satisfied: preshed<3.1.0,>=3.0.2 in c:\\users\\andre\\anaconda3\\lib\\site-packages (from spacy) (3.0.8)\n",
      "Requirement already satisfied: jinja2 in c:\\users\\andre\\anaconda3\\lib\\site-packages (from spacy) (3.1.2)\n",
      "Requirement already satisfied: setuptools in c:\\users\\andre\\anaconda3\\lib\\site-packages (from spacy) (65.6.3)\n",
      "Requirement already satisfied: pathy>=0.10.0 in c:\\users\\andre\\anaconda3\\lib\\site-packages (from spacy) (0.10.1)\n",
      "Requirement already satisfied: cymem<2.1.0,>=2.0.2 in c:\\users\\andre\\anaconda3\\lib\\site-packages (from spacy) (2.0.7)\n",
      "Requirement already satisfied: langcodes<4.0.0,>=3.2.0 in c:\\users\\andre\\anaconda3\\lib\\site-packages (from spacy) (3.3.0)\n",
      "Requirement already satisfied: tqdm<5.0.0,>=4.38.0 in c:\\users\\andre\\anaconda3\\lib\\site-packages (from spacy) (4.65.0)\n",
      "Requirement already satisfied: pydantic!=1.8,!=1.8.1,<1.11.0,>=1.7.4 in c:\\users\\andre\\anaconda3\\lib\\site-packages (from spacy) (1.10.7)\n",
      "Requirement already satisfied: spacy-loggers<2.0.0,>=1.0.0 in c:\\users\\andre\\anaconda3\\lib\\site-packages (from spacy) (1.0.4)\n",
      "Requirement already satisfied: typer<0.8.0,>=0.3.0 in c:\\users\\andre\\anaconda3\\lib\\site-packages (from spacy) (0.7.0)\n",
      "Requirement already satisfied: numpy>=1.15.0 in c:\\users\\andre\\anaconda3\\lib\\site-packages (from spacy) (1.23.5)\n",
      "Requirement already satisfied: smart-open<7.0.0,>=5.2.1 in c:\\users\\andre\\anaconda3\\lib\\site-packages (from spacy) (6.3.0)\n",
      "Requirement already satisfied: spacy-legacy<3.1.0,>=3.0.11 in c:\\users\\andre\\anaconda3\\lib\\site-packages (from spacy) (3.0.12)\n",
      "Requirement already satisfied: typing-extensions>=4.2.0 in c:\\users\\andre\\anaconda3\\lib\\site-packages (from pydantic!=1.8,!=1.8.1,<1.11.0,>=1.7.4->spacy) (4.5.0)\n",
      "Requirement already satisfied: charset-normalizer<3,>=2 in c:\\users\\andre\\anaconda3\\lib\\site-packages (from requests<3.0.0,>=2.13.0->spacy) (2.0.4)\n",
      "Requirement already satisfied: idna<4,>=2.5 in c:\\users\\andre\\anaconda3\\lib\\site-packages (from requests<3.0.0,>=2.13.0->spacy) (3.4)\n",
      "Requirement already satisfied: urllib3<1.27,>=1.21.1 in c:\\users\\andre\\anaconda3\\lib\\site-packages (from requests<3.0.0,>=2.13.0->spacy) (1.26.15)\n",
      "Requirement already satisfied: certifi>=2017.4.17 in c:\\users\\andre\\anaconda3\\lib\\site-packages (from requests<3.0.0,>=2.13.0->spacy) (2022.12.7)\n",
      "Requirement already satisfied: confection<1.0.0,>=0.0.1 in c:\\users\\andre\\anaconda3\\lib\\site-packages (from thinc<8.2.0,>=8.1.8->spacy) (0.0.4)\n",
      "Requirement already satisfied: blis<0.8.0,>=0.7.8 in c:\\users\\andre\\anaconda3\\lib\\site-packages (from thinc<8.2.0,>=8.1.8->spacy) (0.7.9)\n",
      "Requirement already satisfied: colorama in c:\\users\\andre\\anaconda3\\lib\\site-packages (from tqdm<5.0.0,>=4.38.0->spacy) (0.4.6)\n",
      "Requirement already satisfied: click<9.0.0,>=7.1.1 in c:\\users\\andre\\anaconda3\\lib\\site-packages (from typer<0.8.0,>=0.3.0->spacy) (8.0.4)\n",
      "Requirement already satisfied: MarkupSafe>=2.0 in c:\\users\\andre\\anaconda3\\lib\\site-packages (from jinja2->spacy) (2.1.1)\n",
      "Requirement already satisfied: gensim in c:\\users\\andre\\anaconda3\\lib\\site-packages (4.3.1)\n",
      "Requirement already satisfied: smart-open>=1.8.1 in c:\\users\\andre\\anaconda3\\lib\\site-packages (from gensim) (6.3.0)\n",
      "Requirement already satisfied: scipy>=1.7.0 in c:\\users\\andre\\anaconda3\\lib\\site-packages (from gensim) (1.10.1)\n",
      "Requirement already satisfied: numpy>=1.18.5 in c:\\users\\andre\\anaconda3\\lib\\site-packages (from gensim) (1.23.5)\n",
      "Requirement already satisfied: scipy in c:\\users\\andre\\anaconda3\\lib\\site-packages (1.10.1)\n",
      "Requirement already satisfied: numpy<1.27.0,>=1.19.5 in c:\\users\\andre\\anaconda3\\lib\\site-packages (from scipy) (1.23.5)\n",
      "Requirement already satisfied: pyemd in c:\\users\\andre\\anaconda3\\lib\\site-packages (1.0.0)\n",
      "Requirement already satisfied: numpy>=1.9.0 in c:\\users\\andre\\anaconda3\\lib\\site-packages (from pyemd) (1.23.5)\n",
      "Requirement already satisfied: sklearn in c:\\users\\andre\\anaconda3\\lib\\site-packages (0.0.post4)\n",
      "Requirement already satisfied: nltk in c:\\users\\andre\\anaconda3\\lib\\site-packages (3.8.1)\n",
      "Requirement already satisfied: tqdm in c:\\users\\andre\\anaconda3\\lib\\site-packages (from nltk) (4.65.0)\n",
      "Requirement already satisfied: click in c:\\users\\andre\\anaconda3\\lib\\site-packages (from nltk) (8.0.4)\n",
      "Requirement already satisfied: joblib in c:\\users\\andre\\anaconda3\\lib\\site-packages (from nltk) (1.2.0)\n",
      "Requirement already satisfied: regex>=2021.8.3 in c:\\users\\andre\\anaconda3\\lib\\site-packages (from nltk) (2023.3.23)\n",
      "Requirement already satisfied: colorama in c:\\users\\andre\\anaconda3\\lib\\site-packages (from click->nltk) (0.4.6)\n",
      "Requirement already satisfied: datasets in c:\\users\\andre\\anaconda3\\lib\\site-packages (2.12.0)\n",
      "Requirement already satisfied: responses<0.19 in c:\\users\\andre\\anaconda3\\lib\\site-packages (from datasets) (0.18.0)\n",
      "Requirement already satisfied: huggingface-hub<1.0.0,>=0.11.0 in c:\\users\\andre\\anaconda3\\lib\\site-packages (from datasets) (0.14.1)\n",
      "Requirement already satisfied: pyyaml>=5.1 in c:\\users\\andre\\anaconda3\\lib\\site-packages (from datasets) (6.0)\n",
      "Requirement already satisfied: pyarrow>=8.0.0 in c:\\users\\andre\\anaconda3\\lib\\site-packages (from datasets) (11.0.0)\n",
      "Requirement already satisfied: aiohttp in c:\\users\\andre\\anaconda3\\lib\\site-packages (from datasets) (3.8.4)\n",
      "Requirement already satisfied: multiprocess in c:\\users\\andre\\anaconda3\\lib\\site-packages (from datasets) (0.70.14)\n",
      "Requirement already satisfied: tqdm>=4.62.1 in c:\\users\\andre\\anaconda3\\lib\\site-packages (from datasets) (4.65.0)\n",
      "Requirement already satisfied: requests>=2.19.0 in c:\\users\\andre\\anaconda3\\lib\\site-packages (from datasets) (2.28.1)\n",
      "Requirement already satisfied: numpy>=1.17 in c:\\users\\andre\\anaconda3\\lib\\site-packages (from datasets) (1.23.5)\n",
      "Requirement already satisfied: pandas in c:\\users\\andre\\anaconda3\\lib\\site-packages (from datasets) (1.5.3)\n",
      "Requirement already satisfied: packaging in c:\\users\\andre\\anaconda3\\lib\\site-packages (from datasets) (23.0)\n",
      "Requirement already satisfied: dill<0.3.7,>=0.3.0 in c:\\users\\andre\\anaconda3\\lib\\site-packages (from datasets) (0.3.6)\n",
      "Requirement already satisfied: fsspec[http]>=2021.11.1 in c:\\users\\andre\\anaconda3\\lib\\site-packages (from datasets) (2023.4.0)\n",
      "Requirement already satisfied: xxhash in c:\\users\\andre\\anaconda3\\lib\\site-packages (from datasets) (3.2.0)\n",
      "Requirement already satisfied: aiosignal>=1.1.2 in c:\\users\\andre\\anaconda3\\lib\\site-packages (from aiohttp->datasets) (1.3.1)\n",
      "Requirement already satisfied: frozenlist>=1.1.1 in c:\\users\\andre\\anaconda3\\lib\\site-packages (from aiohttp->datasets) (1.3.3)\n",
      "Requirement already satisfied: charset-normalizer<4.0,>=2.0 in c:\\users\\andre\\anaconda3\\lib\\site-packages (from aiohttp->datasets) (2.0.4)\n",
      "Requirement already satisfied: multidict<7.0,>=4.5 in c:\\users\\andre\\anaconda3\\lib\\site-packages (from aiohttp->datasets) (6.0.4)\n",
      "Requirement already satisfied: attrs>=17.3.0 in c:\\users\\andre\\anaconda3\\lib\\site-packages (from aiohttp->datasets) (22.1.0)\n",
      "Requirement already satisfied: yarl<2.0,>=1.0 in c:\\users\\andre\\anaconda3\\lib\\site-packages (from aiohttp->datasets) (1.9.2)\n",
      "Requirement already satisfied: async-timeout<5.0,>=4.0.0a3 in c:\\users\\andre\\anaconda3\\lib\\site-packages (from aiohttp->datasets) (4.0.2)\n",
      "Requirement already satisfied: filelock in c:\\users\\andre\\anaconda3\\lib\\site-packages (from huggingface-hub<1.0.0,>=0.11.0->datasets) (3.9.0)\n",
      "Requirement already satisfied: typing-extensions>=3.7.4.3 in c:\\users\\andre\\anaconda3\\lib\\site-packages (from huggingface-hub<1.0.0,>=0.11.0->datasets) (4.5.0)\n",
      "Requirement already satisfied: idna<4,>=2.5 in c:\\users\\andre\\anaconda3\\lib\\site-packages (from requests>=2.19.0->datasets) (3.4)\n",
      "Requirement already satisfied: urllib3<1.27,>=1.21.1 in c:\\users\\andre\\anaconda3\\lib\\site-packages (from requests>=2.19.0->datasets) (1.26.15)\n",
      "Requirement already satisfied: certifi>=2017.4.17 in c:\\users\\andre\\anaconda3\\lib\\site-packages (from requests>=2.19.0->datasets) (2022.12.7)\n",
      "Requirement already satisfied: colorama in c:\\users\\andre\\anaconda3\\lib\\site-packages (from tqdm>=4.62.1->datasets) (0.4.6)\n",
      "Requirement already satisfied: pytz>=2020.1 in c:\\users\\andre\\anaconda3\\lib\\site-packages (from pandas->datasets) (2022.7)\n",
      "Requirement already satisfied: python-dateutil>=2.8.1 in c:\\users\\andre\\anaconda3\\lib\\site-packages (from pandas->datasets) (2.8.2)\n",
      "Requirement already satisfied: six>=1.5 in c:\\users\\andre\\anaconda3\\lib\\site-packages (from python-dateutil>=2.8.1->pandas->datasets) (1.16.0)\n",
      "Requirement already satisfied: jupyter in c:\\users\\andre\\anaconda3\\lib\\site-packages (1.0.0)\n",
      "Requirement already satisfied: ipywidgets in c:\\users\\andre\\anaconda3\\lib\\site-packages (from jupyter) (8.0.6)\n",
      "Requirement already satisfied: jupyter-console in c:\\users\\andre\\anaconda3\\lib\\site-packages (from jupyter) (6.6.3)\n",
      "Requirement already satisfied: notebook in c:\\users\\andre\\anaconda3\\lib\\site-packages (from jupyter) (6.5.4)\n",
      "Requirement already satisfied: ipykernel in c:\\users\\andre\\anaconda3\\lib\\site-packages (from jupyter) (6.19.2)\n",
      "Requirement already satisfied: nbconvert in c:\\users\\andre\\anaconda3\\lib\\site-packages (from jupyter) (6.5.4)\n",
      "Requirement already satisfied: qtconsole in c:\\users\\andre\\anaconda3\\lib\\site-packages (from jupyter) (5.4.2)\n",
      "Requirement already satisfied: packaging in c:\\users\\andre\\anaconda3\\lib\\site-packages (from ipykernel->jupyter) (23.0)\n",
      "Requirement already satisfied: debugpy>=1.0 in c:\\users\\andre\\anaconda3\\lib\\site-packages (from ipykernel->jupyter) (1.5.1)\n",
      "Requirement already satisfied: jupyter-client>=6.1.12 in c:\\users\\andre\\anaconda3\\lib\\site-packages (from ipykernel->jupyter) (8.1.0)\n",
      "Requirement already satisfied: comm>=0.1.1 in c:\\users\\andre\\anaconda3\\lib\\site-packages (from ipykernel->jupyter) (0.1.2)\n",
      "Requirement already satisfied: ipython>=7.23.1 in c:\\users\\andre\\anaconda3\\lib\\site-packages (from ipykernel->jupyter) (8.12.0)\n",
      "Requirement already satisfied: traitlets>=5.4.0 in c:\\users\\andre\\anaconda3\\lib\\site-packages (from ipykernel->jupyter) (5.7.1)\n",
      "Requirement already satisfied: psutil in c:\\users\\andre\\anaconda3\\lib\\site-packages (from ipykernel->jupyter) (5.9.0)\n",
      "Requirement already satisfied: pyzmq>=17 in c:\\users\\andre\\anaconda3\\lib\\site-packages (from ipykernel->jupyter) (25.0.2)\n",
      "Requirement already satisfied: nest-asyncio in c:\\users\\andre\\anaconda3\\lib\\site-packages (from ipykernel->jupyter) (1.5.6)\n",
      "Requirement already satisfied: tornado>=6.1 in c:\\users\\andre\\anaconda3\\lib\\site-packages (from ipykernel->jupyter) (6.2)\n",
      "Requirement already satisfied: matplotlib-inline>=0.1 in c:\\users\\andre\\anaconda3\\lib\\site-packages (from ipykernel->jupyter) (0.1.6)\n",
      "Requirement already satisfied: widgetsnbextension~=4.0.7 in c:\\users\\andre\\anaconda3\\lib\\site-packages (from ipywidgets->jupyter) (4.0.7)\n",
      "Requirement already satisfied: jupyterlab-widgets~=3.0.7 in c:\\users\\andre\\anaconda3\\lib\\site-packages (from ipywidgets->jupyter) (3.0.7)\n",
      "Requirement already satisfied: prompt-toolkit>=3.0.30 in c:\\users\\andre\\anaconda3\\lib\\site-packages (from jupyter-console->jupyter) (3.0.36)\n",
      "Requirement already satisfied: pygments in c:\\users\\andre\\anaconda3\\lib\\site-packages (from jupyter-console->jupyter) (2.11.2)\n",
      "Requirement already satisfied: jupyter-core!=5.0.*,>=4.12 in c:\\users\\andre\\anaconda3\\lib\\site-packages (from jupyter-console->jupyter) (5.3.0)\n",
      "Requirement already satisfied: entrypoints>=0.2.2 in c:\\users\\andre\\anaconda3\\lib\\site-packages (from nbconvert->jupyter) (0.4)\n",
      "Requirement already satisfied: pandocfilters>=1.4.1 in c:\\users\\andre\\anaconda3\\lib\\site-packages (from nbconvert->jupyter) (1.5.0)\n",
      "Requirement already satisfied: bleach in c:\\users\\andre\\anaconda3\\lib\\site-packages (from nbconvert->jupyter) (4.1.0)\n",
      "Requirement already satisfied: beautifulsoup4 in c:\\users\\andre\\anaconda3\\lib\\site-packages (from nbconvert->jupyter) (4.12.2)\n",
      "Requirement already satisfied: jinja2>=3.0 in c:\\users\\andre\\anaconda3\\lib\\site-packages (from nbconvert->jupyter) (3.1.2)\n",
      "Requirement already satisfied: MarkupSafe>=2.0 in c:\\users\\andre\\anaconda3\\lib\\site-packages (from nbconvert->jupyter) (2.1.1)\n",
      "Requirement already satisfied: defusedxml in c:\\users\\andre\\anaconda3\\lib\\site-packages (from nbconvert->jupyter) (0.7.1)\n",
      "Requirement already satisfied: jupyterlab-pygments in c:\\users\\andre\\anaconda3\\lib\\site-packages (from nbconvert->jupyter) (0.1.2)\n",
      "Requirement already satisfied: nbclient>=0.5.0 in c:\\users\\andre\\anaconda3\\lib\\site-packages (from nbconvert->jupyter) (0.5.13)\n",
      "Requirement already satisfied: nbformat>=5.1 in c:\\users\\andre\\anaconda3\\lib\\site-packages (from nbconvert->jupyter) (5.7.0)\n",
      "Requirement already satisfied: mistune<2,>=0.8.1 in c:\\users\\andre\\anaconda3\\lib\\site-packages (from nbconvert->jupyter) (0.8.4)\n",
      "Requirement already satisfied: lxml in c:\\users\\andre\\anaconda3\\lib\\site-packages (from nbconvert->jupyter) (4.9.2)\n",
      "Requirement already satisfied: tinycss2 in c:\\users\\andre\\anaconda3\\lib\\site-packages (from nbconvert->jupyter) (1.2.1)\n",
      "Requirement already satisfied: argon2-cffi in c:\\users\\andre\\anaconda3\\lib\\site-packages (from notebook->jupyter) (21.3.0)\n",
      "Requirement already satisfied: prometheus-client in c:\\users\\andre\\anaconda3\\lib\\site-packages (from notebook->jupyter) (0.16.0)\n",
      "Requirement already satisfied: nbclassic>=0.4.7 in c:\\users\\andre\\anaconda3\\lib\\site-packages (from notebook->jupyter) (0.5.6)\n",
      "Requirement already satisfied: Send2Trash>=1.8.0 in c:\\users\\andre\\anaconda3\\lib\\site-packages (from notebook->jupyter) (1.8.2)\n",
      "Requirement already satisfied: ipython-genutils in c:\\users\\andre\\anaconda3\\lib\\site-packages (from notebook->jupyter) (0.2.0)\n",
      "Requirement already satisfied: terminado>=0.8.3 in c:\\users\\andre\\anaconda3\\lib\\site-packages (from notebook->jupyter) (0.17.1)\n",
      "Requirement already satisfied: qtpy>=2.0.1 in c:\\users\\andre\\anaconda3\\lib\\site-packages (from qtconsole->jupyter) (2.2.0)\n",
      "Requirement already satisfied: decorator in c:\\users\\andre\\anaconda3\\lib\\site-packages (from ipython>=7.23.1->ipykernel->jupyter) (5.1.1)\n",
      "Requirement already satisfied: stack-data in c:\\users\\andre\\anaconda3\\lib\\site-packages (from ipython>=7.23.1->ipykernel->jupyter) (0.2.0)\n",
      "Requirement already satisfied: backcall in c:\\users\\andre\\anaconda3\\lib\\site-packages (from ipython>=7.23.1->ipykernel->jupyter) (0.2.0)\n",
      "Requirement already satisfied: colorama in c:\\users\\andre\\anaconda3\\lib\\site-packages (from ipython>=7.23.1->ipykernel->jupyter) (0.4.6)\n",
      "Requirement already satisfied: pickleshare in c:\\users\\andre\\anaconda3\\lib\\site-packages (from ipython>=7.23.1->ipykernel->jupyter) (0.7.5)\n",
      "Requirement already satisfied: jedi>=0.16 in c:\\users\\andre\\anaconda3\\lib\\site-packages (from ipython>=7.23.1->ipykernel->jupyter) (0.18.1)\n",
      "Requirement already satisfied: python-dateutil>=2.8.2 in c:\\users\\andre\\anaconda3\\lib\\site-packages (from jupyter-client>=6.1.12->ipykernel->jupyter) (2.8.2)\n",
      "Requirement already satisfied: pywin32>=300 in c:\\users\\andre\\anaconda3\\lib\\site-packages (from jupyter-core!=5.0.*,>=4.12->jupyter-console->jupyter) (305.1)\n",
      "Requirement already satisfied: platformdirs>=2.5 in c:\\users\\andre\\anaconda3\\lib\\site-packages (from jupyter-core!=5.0.*,>=4.12->jupyter-console->jupyter) (2.5.2)\n",
      "Requirement already satisfied: jupyter-server>=1.8 in c:\\users\\andre\\anaconda3\\lib\\site-packages (from nbclassic>=0.4.7->notebook->jupyter) (2.5.0)\n",
      "Requirement already satisfied: notebook-shim>=0.2.3 in c:\\users\\andre\\anaconda3\\lib\\site-packages (from nbclassic>=0.4.7->notebook->jupyter) (0.2.3)\n",
      "Requirement already satisfied: fastjsonschema in c:\\users\\andre\\anaconda3\\lib\\site-packages (from nbformat>=5.1->nbconvert->jupyter) (2.16.2)\n",
      "Requirement already satisfied: jsonschema>=2.6 in c:\\users\\andre\\anaconda3\\lib\\site-packages (from nbformat>=5.1->nbconvert->jupyter) (4.17.3)\n",
      "Requirement already satisfied: wcwidth in c:\\users\\andre\\anaconda3\\lib\\site-packages (from prompt-toolkit>=3.0.30->jupyter-console->jupyter) (0.2.5)\n",
      "Requirement already satisfied: pywinpty>=1.1.0 in c:\\users\\andre\\anaconda3\\lib\\site-packages (from terminado>=0.8.3->notebook->jupyter) (2.0.10)\n",
      "Requirement already satisfied: argon2-cffi-bindings in c:\\users\\andre\\anaconda3\\lib\\site-packages (from argon2-cffi->notebook->jupyter) (21.2.0)\n",
      "Requirement already satisfied: soupsieve>1.2 in c:\\users\\andre\\anaconda3\\lib\\site-packages (from beautifulsoup4->nbconvert->jupyter) (2.4)\n",
      "Requirement already satisfied: webencodings in c:\\users\\andre\\anaconda3\\lib\\site-packages (from bleach->nbconvert->jupyter) (0.5.1)\n",
      "Requirement already satisfied: six>=1.9.0 in c:\\users\\andre\\anaconda3\\lib\\site-packages (from bleach->nbconvert->jupyter) (1.16.0)\n",
      "Requirement already satisfied: parso<0.9.0,>=0.8.0 in c:\\users\\andre\\anaconda3\\lib\\site-packages (from jedi>=0.16->ipython>=7.23.1->ipykernel->jupyter) (0.8.3)\n",
      "Requirement already satisfied: attrs>=17.4.0 in c:\\users\\andre\\anaconda3\\lib\\site-packages (from jsonschema>=2.6->nbformat>=5.1->nbconvert->jupyter) (22.1.0)\n",
      "Requirement already satisfied: pyrsistent!=0.17.0,!=0.17.1,!=0.17.2,>=0.14.0 in c:\\users\\andre\\anaconda3\\lib\\site-packages (from jsonschema>=2.6->nbformat>=5.1->nbconvert->jupyter) (0.18.0)\n",
      "Requirement already satisfied: anyio>=3.1.0 in c:\\users\\andre\\anaconda3\\lib\\site-packages (from jupyter-server>=1.8->nbclassic>=0.4.7->notebook->jupyter) (3.6.2)\n",
      "Requirement already satisfied: websocket-client in c:\\users\\andre\\anaconda3\\lib\\site-packages (from jupyter-server>=1.8->nbclassic>=0.4.7->notebook->jupyter) (1.5.1)\n",
      "Requirement already satisfied: jupyter-events>=0.4.0 in c:\\users\\andre\\anaconda3\\lib\\site-packages (from jupyter-server>=1.8->nbclassic>=0.4.7->notebook->jupyter) (0.6.3)\n",
      "Requirement already satisfied: jupyter-server-terminals in c:\\users\\andre\\anaconda3\\lib\\site-packages (from jupyter-server>=1.8->nbclassic>=0.4.7->notebook->jupyter) (0.4.4)\n",
      "Requirement already satisfied: cffi>=1.0.1 in c:\\users\\andre\\anaconda3\\lib\\site-packages (from argon2-cffi-bindings->argon2-cffi->notebook->jupyter) (1.15.1)\n",
      "Requirement already satisfied: executing in c:\\users\\andre\\anaconda3\\lib\\site-packages (from stack-data->ipython>=7.23.1->ipykernel->jupyter) (0.8.3)\n",
      "Requirement already satisfied: pure-eval in c:\\users\\andre\\anaconda3\\lib\\site-packages (from stack-data->ipython>=7.23.1->ipykernel->jupyter) (0.2.2)\n",
      "Requirement already satisfied: asttokens in c:\\users\\andre\\anaconda3\\lib\\site-packages (from stack-data->ipython>=7.23.1->ipykernel->jupyter) (2.0.5)\n",
      "Requirement already satisfied: sniffio>=1.1 in c:\\users\\andre\\anaconda3\\lib\\site-packages (from anyio>=3.1.0->jupyter-server>=1.8->nbclassic>=0.4.7->notebook->jupyter) (1.3.0)\n",
      "Requirement already satisfied: idna>=2.8 in c:\\users\\andre\\anaconda3\\lib\\site-packages (from anyio>=3.1.0->jupyter-server>=1.8->nbclassic>=0.4.7->notebook->jupyter) (3.4)\n",
      "Requirement already satisfied: pycparser in c:\\users\\andre\\anaconda3\\lib\\site-packages (from cffi>=1.0.1->argon2-cffi-bindings->argon2-cffi->notebook->jupyter) (2.21)\n",
      "Requirement already satisfied: pyyaml>=5.3 in c:\\users\\andre\\anaconda3\\lib\\site-packages (from jupyter-events>=0.4.0->jupyter-server>=1.8->nbclassic>=0.4.7->notebook->jupyter) (6.0)\n",
      "Requirement already satisfied: rfc3339-validator in c:\\users\\andre\\anaconda3\\lib\\site-packages (from jupyter-events>=0.4.0->jupyter-server>=1.8->nbclassic>=0.4.7->notebook->jupyter) (0.1.4)\n",
      "Requirement already satisfied: python-json-logger>=2.0.4 in c:\\users\\andre\\anaconda3\\lib\\site-packages (from jupyter-events>=0.4.0->jupyter-server>=1.8->nbclassic>=0.4.7->notebook->jupyter) (2.0.7)\n",
      "Requirement already satisfied: rfc3986-validator>=0.1.1 in c:\\users\\andre\\anaconda3\\lib\\site-packages (from jupyter-events>=0.4.0->jupyter-server>=1.8->nbclassic>=0.4.7->notebook->jupyter) (0.1.1)\n",
      "Requirement already satisfied: isoduration in c:\\users\\andre\\anaconda3\\lib\\site-packages (from jsonschema>=2.6->nbformat>=5.1->nbconvert->jupyter) (20.11.0)\n",
      "Requirement already satisfied: webcolors>=1.11 in c:\\users\\andre\\anaconda3\\lib\\site-packages (from jsonschema>=2.6->nbformat>=5.1->nbconvert->jupyter) (1.13)\n",
      "Requirement already satisfied: jsonpointer>1.13 in c:\\users\\andre\\anaconda3\\lib\\site-packages (from jsonschema>=2.6->nbformat>=5.1->nbconvert->jupyter) (2.1)\n",
      "Requirement already satisfied: uri-template in c:\\users\\andre\\anaconda3\\lib\\site-packages (from jsonschema>=2.6->nbformat>=5.1->nbconvert->jupyter) (1.2.0)\n",
      "Requirement already satisfied: fqdn in c:\\users\\andre\\anaconda3\\lib\\site-packages (from jsonschema>=2.6->nbformat>=5.1->nbconvert->jupyter) (1.5.1)\n",
      "Requirement already satisfied: arrow>=0.15.0 in c:\\users\\andre\\anaconda3\\lib\\site-packages (from isoduration->jsonschema>=2.6->nbformat>=5.1->nbconvert->jupyter) (1.2.3)\n",
      "Requirement already satisfied: ipywidgets in c:\\users\\andre\\anaconda3\\lib\\site-packages (8.0.6)\n",
      "Requirement already satisfied: ipykernel>=4.5.1 in c:\\users\\andre\\anaconda3\\lib\\site-packages (from ipywidgets) (6.19.2)\n",
      "Requirement already satisfied: ipython>=6.1.0 in c:\\users\\andre\\anaconda3\\lib\\site-packages (from ipywidgets) (8.12.0)\n",
      "Requirement already satisfied: jupyterlab-widgets~=3.0.7 in c:\\users\\andre\\anaconda3\\lib\\site-packages (from ipywidgets) (3.0.7)\n",
      "Requirement already satisfied: widgetsnbextension~=4.0.7 in c:\\users\\andre\\anaconda3\\lib\\site-packages (from ipywidgets) (4.0.7)\n",
      "Requirement already satisfied: traitlets>=4.3.1 in c:\\users\\andre\\anaconda3\\lib\\site-packages (from ipywidgets) (5.7.1)\n",
      "Requirement already satisfied: jupyter-client>=6.1.12 in c:\\users\\andre\\anaconda3\\lib\\site-packages (from ipykernel>=4.5.1->ipywidgets) (8.1.0)\n",
      "Requirement already satisfied: debugpy>=1.0 in c:\\users\\andre\\anaconda3\\lib\\site-packages (from ipykernel>=4.5.1->ipywidgets) (1.5.1)\n",
      "Requirement already satisfied: pyzmq>=17 in c:\\users\\andre\\anaconda3\\lib\\site-packages (from ipykernel>=4.5.1->ipywidgets) (25.0.2)\n",
      "Requirement already satisfied: matplotlib-inline>=0.1 in c:\\users\\andre\\anaconda3\\lib\\site-packages (from ipykernel>=4.5.1->ipywidgets) (0.1.6)\n",
      "Requirement already satisfied: nest-asyncio in c:\\users\\andre\\anaconda3\\lib\\site-packages (from ipykernel>=4.5.1->ipywidgets) (1.5.6)\n",
      "Requirement already satisfied: psutil in c:\\users\\andre\\anaconda3\\lib\\site-packages (from ipykernel>=4.5.1->ipywidgets) (5.9.0)\n",
      "Requirement already satisfied: tornado>=6.1 in c:\\users\\andre\\anaconda3\\lib\\site-packages (from ipykernel>=4.5.1->ipywidgets) (6.2)\n",
      "Requirement already satisfied: packaging in c:\\users\\andre\\anaconda3\\lib\\site-packages (from ipykernel>=4.5.1->ipywidgets) (23.0)\n",
      "Requirement already satisfied: comm>=0.1.1 in c:\\users\\andre\\anaconda3\\lib\\site-packages (from ipykernel>=4.5.1->ipywidgets) (0.1.2)\n",
      "Requirement already satisfied: jedi>=0.16 in c:\\users\\andre\\anaconda3\\lib\\site-packages (from ipython>=6.1.0->ipywidgets) (0.18.1)\n",
      "Requirement already satisfied: backcall in c:\\users\\andre\\anaconda3\\lib\\site-packages (from ipython>=6.1.0->ipywidgets) (0.2.0)\n",
      "Requirement already satisfied: prompt-toolkit!=3.0.37,<3.1.0,>=3.0.30 in c:\\users\\andre\\anaconda3\\lib\\site-packages (from ipython>=6.1.0->ipywidgets) (3.0.36)\n",
      "Requirement already satisfied: pickleshare in c:\\users\\andre\\anaconda3\\lib\\site-packages (from ipython>=6.1.0->ipywidgets) (0.7.5)\n",
      "Requirement already satisfied: stack-data in c:\\users\\andre\\anaconda3\\lib\\site-packages (from ipython>=6.1.0->ipywidgets) (0.2.0)\n",
      "Requirement already satisfied: pygments>=2.4.0 in c:\\users\\andre\\anaconda3\\lib\\site-packages (from ipython>=6.1.0->ipywidgets) (2.11.2)\n",
      "Requirement already satisfied: colorama in c:\\users\\andre\\anaconda3\\lib\\site-packages (from ipython>=6.1.0->ipywidgets) (0.4.6)\n",
      "Requirement already satisfied: decorator in c:\\users\\andre\\anaconda3\\lib\\site-packages (from ipython>=6.1.0->ipywidgets) (5.1.1)\n",
      "Requirement already satisfied: parso<0.9.0,>=0.8.0 in c:\\users\\andre\\anaconda3\\lib\\site-packages (from jedi>=0.16->ipython>=6.1.0->ipywidgets) (0.8.3)\n",
      "Requirement already satisfied: python-dateutil>=2.8.2 in c:\\users\\andre\\anaconda3\\lib\\site-packages (from jupyter-client>=6.1.12->ipykernel>=4.5.1->ipywidgets) (2.8.2)\n",
      "Requirement already satisfied: jupyter-core!=5.0.*,>=4.12 in c:\\users\\andre\\anaconda3\\lib\\site-packages (from jupyter-client>=6.1.12->ipykernel>=4.5.1->ipywidgets) (5.3.0)\n",
      "Requirement already satisfied: wcwidth in c:\\users\\andre\\anaconda3\\lib\\site-packages (from prompt-toolkit!=3.0.37,<3.1.0,>=3.0.30->ipython>=6.1.0->ipywidgets) (0.2.5)\n",
      "Requirement already satisfied: executing in c:\\users\\andre\\anaconda3\\lib\\site-packages (from stack-data->ipython>=6.1.0->ipywidgets) (0.8.3)\n",
      "Requirement already satisfied: asttokens in c:\\users\\andre\\anaconda3\\lib\\site-packages (from stack-data->ipython>=6.1.0->ipywidgets) (2.0.5)\n",
      "Requirement already satisfied: pure-eval in c:\\users\\andre\\anaconda3\\lib\\site-packages (from stack-data->ipython>=6.1.0->ipywidgets) (0.2.2)\n",
      "Requirement already satisfied: pywin32>=300 in c:\\users\\andre\\anaconda3\\lib\\site-packages (from jupyter-core!=5.0.*,>=4.12->jupyter-client>=6.1.12->ipykernel>=4.5.1->ipywidgets) (305.1)\n",
      "Requirement already satisfied: platformdirs>=2.5 in c:\\users\\andre\\anaconda3\\lib\\site-packages (from jupyter-core!=5.0.*,>=4.12->jupyter-client>=6.1.12->ipykernel>=4.5.1->ipywidgets) (2.5.2)\n",
      "Requirement already satisfied: six>=1.5 in c:\\users\\andre\\anaconda3\\lib\\site-packages (from python-dateutil>=2.8.2->jupyter-client>=6.1.12->ipykernel>=4.5.1->ipywidgets) (1.16.0)\n",
      "Requirement already satisfied: POT in c:\\users\\andre\\anaconda3\\lib\\site-packages (0.9.0)\n",
      "Requirement already satisfied: scipy>=1.0 in c:\\users\\andre\\anaconda3\\lib\\site-packages (from POT) (1.10.1)\n",
      "Requirement already satisfied: numpy>=1.16 in c:\\users\\andre\\anaconda3\\lib\\site-packages (from POT) (1.23.5)\n",
      "Requirement already satisfied: keras in c:\\users\\andre\\anaconda3\\lib\\site-packages (2.12.0)\n",
      "Requirement already satisfied: torch in c:\\users\\andre\\anaconda3\\lib\\site-packages (2.0.0)\n",
      "Requirement already satisfied: typing-extensions in c:\\users\\andre\\anaconda3\\lib\\site-packages (from torch) (4.5.0)\n",
      "Requirement already satisfied: networkx in c:\\users\\andre\\anaconda3\\lib\\site-packages (from torch) (3.1)\n",
      "Requirement already satisfied: sympy in c:\\users\\andre\\anaconda3\\lib\\site-packages (from torch) (1.11.1)\n",
      "Requirement already satisfied: filelock in c:\\users\\andre\\anaconda3\\lib\\site-packages (from torch) (3.9.0)\n",
      "Requirement already satisfied: jinja2 in c:\\users\\andre\\anaconda3\\lib\\site-packages (from torch) (3.1.2)\n",
      "Requirement already satisfied: MarkupSafe>=2.0 in c:\\users\\andre\\anaconda3\\lib\\site-packages (from jinja2->torch) (2.1.1)\n",
      "Requirement already satisfied: mpmath>=0.19 in c:\\users\\andre\\anaconda3\\lib\\site-packages (from sympy->torch) (1.3.0)\n",
      "Collecting en-core-web-sm==3.5.0\n",
      "  Downloading https://github.com/explosion/spacy-models/releases/download/en_core_web_sm-3.5.0/en_core_web_sm-3.5.0-py3-none-any.whl (12.8 MB)\n",
      "     --------------------------------------- 12.8/12.8 MB 17.2 MB/s eta 0:00:00\n",
      "Requirement already satisfied: spacy<3.6.0,>=3.5.0 in c:\\users\\andre\\anaconda3\\lib\\site-packages (from en-core-web-sm==3.5.0) (3.5.2)\n",
      "Requirement already satisfied: smart-open<7.0.0,>=5.2.1 in c:\\users\\andre\\anaconda3\\lib\\site-packages (from spacy<3.6.0,>=3.5.0->en-core-web-sm==3.5.0) (6.3.0)\n",
      "Requirement already satisfied: setuptools in c:\\users\\andre\\anaconda3\\lib\\site-packages (from spacy<3.6.0,>=3.5.0->en-core-web-sm==3.5.0) (65.6.3)\n",
      "Requirement already satisfied: wasabi<1.2.0,>=0.9.1 in c:\\users\\andre\\anaconda3\\lib\\site-packages (from spacy<3.6.0,>=3.5.0->en-core-web-sm==3.5.0) (1.1.1)\n",
      "Requirement already satisfied: pydantic!=1.8,!=1.8.1,<1.11.0,>=1.7.4 in c:\\users\\andre\\anaconda3\\lib\\site-packages (from spacy<3.6.0,>=3.5.0->en-core-web-sm==3.5.0) (1.10.7)\n",
      "Requirement already satisfied: srsly<3.0.0,>=2.4.3 in c:\\users\\andre\\anaconda3\\lib\\site-packages (from spacy<3.6.0,>=3.5.0->en-core-web-sm==3.5.0) (2.4.6)\n",
      "Requirement already satisfied: tqdm<5.0.0,>=4.38.0 in c:\\users\\andre\\anaconda3\\lib\\site-packages (from spacy<3.6.0,>=3.5.0->en-core-web-sm==3.5.0) (4.65.0)\n",
      "Requirement already satisfied: requests<3.0.0,>=2.13.0 in c:\\users\\andre\\anaconda3\\lib\\site-packages (from spacy<3.6.0,>=3.5.0->en-core-web-sm==3.5.0) (2.28.1)\n",
      "Requirement already satisfied: preshed<3.1.0,>=3.0.2 in c:\\users\\andre\\anaconda3\\lib\\site-packages (from spacy<3.6.0,>=3.5.0->en-core-web-sm==3.5.0) (3.0.8)\n",
      "Requirement already satisfied: typer<0.8.0,>=0.3.0 in c:\\users\\andre\\anaconda3\\lib\\site-packages (from spacy<3.6.0,>=3.5.0->en-core-web-sm==3.5.0) (0.7.0)\n",
      "Requirement already satisfied: packaging>=20.0 in c:\\users\\andre\\anaconda3\\lib\\site-packages (from spacy<3.6.0,>=3.5.0->en-core-web-sm==3.5.0) (23.0)\n",
      "Requirement already satisfied: murmurhash<1.1.0,>=0.28.0 in c:\\users\\andre\\anaconda3\\lib\\site-packages (from spacy<3.6.0,>=3.5.0->en-core-web-sm==3.5.0) (1.0.9)\n",
      "Requirement already satisfied: numpy>=1.15.0 in c:\\users\\andre\\anaconda3\\lib\\site-packages (from spacy<3.6.0,>=3.5.0->en-core-web-sm==3.5.0) (1.23.5)\n",
      "Requirement already satisfied: cymem<2.1.0,>=2.0.2 in c:\\users\\andre\\anaconda3\\lib\\site-packages (from spacy<3.6.0,>=3.5.0->en-core-web-sm==3.5.0) (2.0.7)\n",
      "Requirement already satisfied: pathy>=0.10.0 in c:\\users\\andre\\anaconda3\\lib\\site-packages (from spacy<3.6.0,>=3.5.0->en-core-web-sm==3.5.0) (0.10.1)\n",
      "Requirement already satisfied: langcodes<4.0.0,>=3.2.0 in c:\\users\\andre\\anaconda3\\lib\\site-packages (from spacy<3.6.0,>=3.5.0->en-core-web-sm==3.5.0) (3.3.0)\n",
      "Requirement already satisfied: spacy-loggers<2.0.0,>=1.0.0 in c:\\users\\andre\\anaconda3\\lib\\site-packages (from spacy<3.6.0,>=3.5.0->en-core-web-sm==3.5.0) (1.0.4)\n",
      "Requirement already satisfied: jinja2 in c:\\users\\andre\\anaconda3\\lib\\site-packages (from spacy<3.6.0,>=3.5.0->en-core-web-sm==3.5.0) (3.1.2)\n",
      "Requirement already satisfied: thinc<8.2.0,>=8.1.8 in c:\\users\\andre\\anaconda3\\lib\\site-packages (from spacy<3.6.0,>=3.5.0->en-core-web-sm==3.5.0) (8.1.9)\n",
      "Requirement already satisfied: spacy-legacy<3.1.0,>=3.0.11 in c:\\users\\andre\\anaconda3\\lib\\site-packages (from spacy<3.6.0,>=3.5.0->en-core-web-sm==3.5.0) (3.0.12)\n",
      "Requirement already satisfied: catalogue<2.1.0,>=2.0.6 in c:\\users\\andre\\anaconda3\\lib\\site-packages (from spacy<3.6.0,>=3.5.0->en-core-web-sm==3.5.0) (2.0.8)\n",
      "Requirement already satisfied: typing-extensions>=4.2.0 in c:\\users\\andre\\anaconda3\\lib\\site-packages (from pydantic!=1.8,!=1.8.1,<1.11.0,>=1.7.4->spacy<3.6.0,>=3.5.0->en-core-web-sm==3.5.0) (4.5.0)\n",
      "Requirement already satisfied: urllib3<1.27,>=1.21.1 in c:\\users\\andre\\anaconda3\\lib\\site-packages (from requests<3.0.0,>=2.13.0->spacy<3.6.0,>=3.5.0->en-core-web-sm==3.5.0) (1.26.15)\n",
      "Requirement already satisfied: certifi>=2017.4.17 in c:\\users\\andre\\anaconda3\\lib\\site-packages (from requests<3.0.0,>=2.13.0->spacy<3.6.0,>=3.5.0->en-core-web-sm==3.5.0) (2022.12.7)\n",
      "Requirement already satisfied: idna<4,>=2.5 in c:\\users\\andre\\anaconda3\\lib\\site-packages (from requests<3.0.0,>=2.13.0->spacy<3.6.0,>=3.5.0->en-core-web-sm==3.5.0) (3.4)\n",
      "Requirement already satisfied: charset-normalizer<3,>=2 in c:\\users\\andre\\anaconda3\\lib\\site-packages (from requests<3.0.0,>=2.13.0->spacy<3.6.0,>=3.5.0->en-core-web-sm==3.5.0) (2.0.4)\n",
      "Requirement already satisfied: confection<1.0.0,>=0.0.1 in c:\\users\\andre\\anaconda3\\lib\\site-packages (from thinc<8.2.0,>=8.1.8->spacy<3.6.0,>=3.5.0->en-core-web-sm==3.5.0) (0.0.4)\n",
      "Requirement already satisfied: blis<0.8.0,>=0.7.8 in c:\\users\\andre\\anaconda3\\lib\\site-packages (from thinc<8.2.0,>=8.1.8->spacy<3.6.0,>=3.5.0->en-core-web-sm==3.5.0) (0.7.9)\n",
      "Requirement already satisfied: colorama in c:\\users\\andre\\anaconda3\\lib\\site-packages (from tqdm<5.0.0,>=4.38.0->spacy<3.6.0,>=3.5.0->en-core-web-sm==3.5.0) (0.4.6)\n",
      "Requirement already satisfied: click<9.0.0,>=7.1.1 in c:\\users\\andre\\anaconda3\\lib\\site-packages (from typer<0.8.0,>=0.3.0->spacy<3.6.0,>=3.5.0->en-core-web-sm==3.5.0) (8.0.4)\n",
      "Requirement already satisfied: MarkupSafe>=2.0 in c:\\users\\andre\\anaconda3\\lib\\site-packages (from jinja2->spacy<3.6.0,>=3.5.0->en-core-web-sm==3.5.0) (2.1.1)\n",
      "\u001b[38;5;2m✔ Download and installation successful\u001b[0m\n",
      "You can now load the package via spacy.load('en_core_web_sm')\n"
     ]
    }
   ],
   "source": [
    "!pip install --upgrade spacy\n",
    "!pip install --upgrade gensim\n",
    "!pip install --upgrade scipy\n",
    "!pip install --upgrade pyemd\n",
    "!pip install --upgrade sklearn\n",
    "!pip install --upgrade nltk\n",
    "!pip install --upgrade datasets\n",
    "!pip install --upgrade jupyter\n",
    "!pip install --upgrade ipywidgets\n",
    "!pip install --upgrade POT\n",
    "!pip install --upgrade keras\n",
    "!pip install torch\n",
    "\n",
    "!python -m spacy download en_core_web_sm"
   ]
  },
  {
   "cell_type": "code",
   "execution_count": 2,
   "metadata": {},
   "outputs": [
    {
     "name": "stderr",
     "output_type": "stream",
     "text": [
      "c:\\Users\\andre\\anaconda3\\lib\\site-packages\\paramiko\\transport.py:219: CryptographyDeprecationWarning: Blowfish has been deprecated\n",
      "  \"class\": algorithms.Blowfish,\n"
     ]
    }
   ],
   "source": [
    "import spacy\n",
    "from spacy.lang.en import English\n",
    "import numpy as np\n",
    "import gensim\n",
    "from gensim.models import KeyedVectors\n",
    "import gensim.downloader as api\n",
    "from scipy.spatial.distance import cosine, jensenshannon, euclidean, cityblock\n",
    "from scipy.stats import spearmanr\n",
    "from pyemd import emd\n",
    "from sklearn.metrics.pairwise import cosine_similarity, paired_distances, euclidean_distances\n",
    "import nltk\n",
    "from nltk.corpus import stopwords\n",
    "import string\n",
    "from datasets import load_dataset\n",
    "import pandas as pd\n",
    "import tensorflow as tf\n",
    "from keras.layers import Input, Embedding, Lambda, Subtract, Dense\n",
    "from keras.models import Model\n",
    "from keras.optimizers import RMSprop\n",
    "import torch\n",
    "import torch.nn as nn\n",
    "import torch.optim as optim\n",
    "from nltk.stem import WordNetLemmatizer\n",
    "import time"
   ]
  },
  {
   "cell_type": "code",
   "execution_count": 3,
   "metadata": {},
   "outputs": [
    {
     "name": "stderr",
     "output_type": "stream",
     "text": [
      "[nltk_data] Downloading package stopwords to\n",
      "[nltk_data]     C:\\Users\\andre\\AppData\\Roaming\\nltk_data...\n",
      "[nltk_data]   Package stopwords is already up-to-date!\n",
      "Found cached dataset stsb_multi_mt (C:/Users/andre/.cache/huggingface/datasets/stsb_multi_mt/en/1.0.0/a5d260e4b7aa82d1ab7379523a005a366d9b124c76a5a5cf0c4c5365458b0ba9)\n"
     ]
    },
    {
     "data": {
      "application/vnd.jupyter.widget-view+json": {
       "model_id": "afced4d3f8ff459486cd77aded6041a8",
       "version_major": 2,
       "version_minor": 0
      },
      "text/plain": [
       "  0%|          | 0/3 [00:00<?, ?it/s]"
      ]
     },
     "metadata": {},
     "output_type": "display_data"
    }
   ],
   "source": [
    "# Load spacy model\n",
    "nlp = spacy.load('en_core_web_sm')\n",
    "\n",
    "# Load word2vec model\n",
    "w2v_model = api.load('word2vec-google-news-300')\n",
    "\n",
    "# Define stop words\n",
    "nltk.download('stopwords')\n",
    "stop_words = stopwords.words('english') + list(string.punctuation)\n",
    "\n",
    "dataset = load_dataset(\"stsb_multi_mt\", 'en')\n",
    "train_dataset = dataset['train'].to_pandas()\n",
    "test_dataset = dataset['test'].to_pandas()"
   ]
  },
  {
   "cell_type": "code",
   "execution_count": 4,
   "metadata": {},
   "outputs": [],
   "source": [
    "# Preprocess text using spaCy\n",
    "def preprocess_text(text):\n",
    "    doc = nlp(text.lower())\n",
    "    tokens = [token.lemma_ for token in doc if not token.is_stop and not token.is_punct and not token.is_space]\n",
    "    return ' '.join(tokens)"
   ]
  },
  {
   "cell_type": "code",
   "execution_count": 5,
   "metadata": {},
   "outputs": [],
   "source": [
    "# Compute distance between texts using WMD\n",
    "def compute_wmd_distance(text1, text2):\n",
    "    tokenized_text1 = text1.split()\n",
    "    tokenized_text2 = text2.split()\n",
    "    try:\n",
    "        distance = w2v_model.wmdistance(tokenized_text1, tokenized_text2)\n",
    "        return distance\n",
    "    except ValueError:\n",
    "        return 0"
   ]
  },
  {
   "cell_type": "code",
   "execution_count": 6,
   "metadata": {},
   "outputs": [],
   "source": [
    "# Compute distance between texts using cosine distance\n",
    "def compute_cosine_distance(text1, text2):\n",
    "    doc1 = nlp(text1)\n",
    "    doc2 = nlp(text2)\n",
    "    vector1 = doc1.vector\n",
    "    vector2 = doc2.vector\n",
    "    try:\n",
    "        distance = cosine(vector1, vector2)\n",
    "        return distance\n",
    "    except ValueError:\n",
    "            return 0"
   ]
  },
  {
   "cell_type": "code",
   "execution_count": 7,
   "metadata": {},
   "outputs": [],
   "source": [
    "# Compute distance between texts using Jensen-Shannon divergence\n",
    "def compute_jensen_shannon_distance(text1, text2):\n",
    "    doc1 = nlp(text1)\n",
    "    doc2 = nlp(text2)\n",
    "    vector1 = doc1.vector\n",
    "    vector2 = doc2.vector\n",
    "    try:\n",
    "        distance = jensenshannon(vector1, vector2)\n",
    "        return distance\n",
    "    except ValueError:\n",
    "        return 0"
   ]
  },
  {
   "cell_type": "code",
   "execution_count": 8,
   "metadata": {},
   "outputs": [],
   "source": [
    "# Compute distance between texts using Euclidean distance\n",
    "def compute_euclidean_distance(text1, text2):\n",
    "    doc1 = nlp(text1)\n",
    "    doc2 = nlp(text2)\n",
    "    vector1 = doc1.vector\n",
    "    vector2 = doc2.vector\n",
    "    try:\n",
    "        distance = euclidean(vector1, vector2)\n",
    "        return distance\n",
    "    except ValueError:\n",
    "        return 0"
   ]
  },
  {
   "cell_type": "code",
   "execution_count": 9,
   "metadata": {},
   "outputs": [],
   "source": [
    "# Compute distance between texts using Manhattan distance\n",
    "def compute_manhattan_distance(text1, text2):\n",
    "    doc1 = nlp(text1)\n",
    "    doc2 = nlp(text2)\n",
    "    vector1 = doc1.vector\n",
    "    vector2 = doc2.vector\n",
    "    try:\n",
    "        distance = cityblock(vector1, vector2)\n",
    "        return distance\n",
    "    except ValueError:\n",
    "        return 0"
   ]
  },
  {
   "cell_type": "code",
   "execution_count": 10,
   "metadata": {},
   "outputs": [],
   "source": [
    "# Compute distance between texts using Earth Mover's Distance\n",
    "def compute_emd_distance(text1, text2):\n",
    "    tokenized_text1 = text1.split()\n",
    "    tokenized_text2 = text2.split()\n",
    "    distance_matrix = np.zeros((len(tokenized_text1), len(tokenized_text2)))\n",
    "    for i, word1 in enumerate(tokenized_text1):\n",
    "        if word1 in stop_words:\n",
    "            continue\n",
    "        if word1 not in w2v_model.index_to_key:\n",
    "            continue\n",
    "        for j, word2 in enumerate(tokenized_text2):\n",
    "            if word2 in stop_words:\n",
    "                continue\n",
    "            if word2 not in w2v_model.index_to_key:\n",
    "                continue\n",
    "            distance_matrix[i, j] = w2v_model.distance(word1, word2)\n",
    "    distance = distance_matrix.sum()\n",
    "    return distance"
   ]
  },
  {
   "cell_type": "code",
   "execution_count": 11,
   "metadata": {},
   "outputs": [],
   "source": [
    "preprocessed_texts1 = test_dataset['sentence1'].apply(preprocess_text)\n",
    "preprocessed_texts2 = test_dataset['sentence2'].apply(preprocess_text)"
   ]
  },
  {
   "cell_type": "code",
   "execution_count": 12,
   "metadata": {},
   "outputs": [
    {
     "name": "stderr",
     "output_type": "stream",
     "text": [
      "c:\\Users\\andre\\anaconda3\\lib\\site-packages\\numpy\\lib\\function_base.py:518: RuntimeWarning: Mean of empty slice.\n",
      "  avg = a.mean(axis, **keepdims_kw)\n"
     ]
    }
   ],
   "source": [
    "start_time = time.time()\n",
    "wmd_distances = preprocessed_texts1.combine(preprocessed_texts2, compute_wmd_distance)\n",
    "wmd_time = time.time() - start_time\n",
    "start_time = time.time()\n",
    "cosine_distances = preprocessed_texts1.combine(preprocessed_texts2, compute_cosine_distance)\n",
    "cosine_time = time.time() - start_time\n",
    "start_time = time.time()\n",
    "jensen_distances = preprocessed_texts1.combine(preprocessed_texts2, compute_jensen_shannon_distance)\n",
    "jensen_time = time.time() - start_time\n",
    "start_time = time.time()\n",
    "euclidean_distances_ = preprocessed_texts1.combine(preprocessed_texts2, compute_euclidean_distance)\n",
    "euclidean_time = time.time() - start_time\n",
    "start_time = time.time()\n",
    "manhattan_distances = preprocessed_texts1.combine(preprocessed_texts2, compute_manhattan_distance)\n",
    "manhattan_time = time.time() - start_time\n",
    "start_time = time.time()\n",
    "emd_distances = preprocessed_texts1.combine(preprocessed_texts2, compute_emd_distance)\n",
    "emd_time = time.time() - start_time"
   ]
  },
  {
   "cell_type": "code",
   "execution_count": 13,
   "metadata": {},
   "outputs": [],
   "source": [
    "wmd_correlation, _ = spearmanr(wmd_distances, test_dataset['similarity_score'])\n",
    "cosine_correlation, _ = spearmanr(cosine_distances, test_dataset['similarity_score'])\n",
    "jensen_correlation, _ = spearmanr(jensen_distances, test_dataset['similarity_score'])\n",
    "euclidean_correlation, _ = spearmanr(euclidean_distances_, test_dataset['similarity_score'])\n",
    "manhattan_correlation, _ = spearmanr(manhattan_distances, test_dataset['similarity_score'])\n",
    "emd_correlation, _ = spearmanr(emd_distances, test_dataset['similarity_score'])"
   ]
  },
  {
   "cell_type": "code",
   "execution_count": 14,
   "metadata": {},
   "outputs": [
    {
     "name": "stdout",
     "output_type": "stream",
     "text": [
      "WMD correlation: -0.6442835036826644 Time: 7.004554271697998\n",
      "Cosine similarity correlation: -0.4875207713658226 Time: 8.993525505065918\n",
      "Jensen correlation: -0.01335479678178198 Time: 8.319007396697998\n",
      "Euclidean correlation: -0.4857486668831016 Time: 8.140328407287598\n",
      "Manhattan correlation: -0.48537166617169974 Time: 8.086314916610718\n",
      "EMD correlation: 0.08835242356436084 Time: 145.2808859348297\n",
      "WMD distance is the best approach.\n"
     ]
    }
   ],
   "source": [
    "print(\"WMD correlation:\", wmd_correlation, \"Time:\", wmd_time)\n",
    "print(\"Cosine similarity correlation:\", cosine_correlation, \"Time:\", cosine_time)\n",
    "print(\"Jensen correlation:\", jensen_correlation, \"Time:\", jensen_time)\n",
    "print(\"Euclidean correlation:\", euclidean_correlation, \"Time:\", euclidean_time)\n",
    "print(\"Manhattan correlation:\", manhattan_correlation, \"Time:\", manhattan_time)\n",
    "print(\"EMD correlation:\", emd_correlation, \"Time:\", emd_time)\n",
    "\n",
    "wmd_correlation = abs(wmd_correlation)\n",
    "cosine_correlation = abs(cosine_correlation)\n",
    "jensen_correlation = abs(jensen_correlation)\n",
    "euclidean_correlation = abs(euclidean_correlation)\n",
    "manhattan_correlation = abs(manhattan_correlation)\n",
    "emd_correlation = abs(emd_correlation)\n",
    "\n",
    "# Determine the best approach based on the highest correlation coefficient\n",
    "max_correlation = max(wmd_correlation, cosine_correlation, jensen_correlation, euclidean_correlation, manhattan_correlation, emd_correlation)\n",
    "if max_correlation == wmd_correlation:\n",
    "    print(\"WMD distance is the best approach.\")\n",
    "elif max_correlation == cosine_correlation:\n",
    "    print(\"Cosine similarity distance is the best approach.\")\n",
    "elif max_correlation == jensen_correlation:\n",
    "    print(\"Jensen distance is the best approach.\")\n",
    "elif max_correlation == euclidean_correlation:\n",
    "    print(\"Euclidean distance is the best approach.\")\n",
    "elif max_correlation == manhattan_correlation:\n",
    "    print(\"Manhattan distance is the best approach.\")\n",
    "else:\n",
    "    print(\"EMD distance is the best approach.\")"
   ]
  },
  {
   "cell_type": "code",
   "execution_count": null,
   "metadata": {},
   "outputs": [],
   "source": []
  },
  {
   "cell_type": "code",
   "execution_count": 15,
   "metadata": {},
   "outputs": [],
   "source": [
    "# Compute distance between texts using WMD\n",
    "def compute_wmd_distance_siamese(preprocessed_text1, preprocessed_text2):\n",
    "    tokenized_text1 = preprocessed_text1.split()\n",
    "    tokenized_text2 = preprocessed_text2.split()\n",
    "    try:\n",
    "        distance = w2v_model.wmdistance(tokenized_text1, tokenized_text2)\n",
    "        return distance\n",
    "    except ValueError:\n",
    "        return 0"
   ]
  },
  {
   "cell_type": "code",
   "execution_count": 16,
   "metadata": {},
   "outputs": [
    {
     "name": "stderr",
     "output_type": "stream",
     "text": [
      "1379it [09:23,  2.45it/s]\n"
     ]
    }
   ],
   "source": [
    "from tqdm import tqdm\n",
    "samples = []\n",
    "labels = []\n",
    "for row in tqdm(test_dataset.iterrows()):\n",
    "    left_words_tmp = preprocess_text(row[1][0])\n",
    "    left_words = [w2v_model.key_to_index[word] if word in w2v_model.index_to_key else 0 for word in left_words_tmp]\n",
    "    right_words_tmp = preprocess_text(row[1][1])\n",
    "    right_words = [w2v_model.key_to_index[word] if word in w2v_model.index_to_key else 0 for word in right_words_tmp]\n",
    "    wmd_distance = compute_wmd_distance_siamese(left_words_tmp, right_words_tmp)\n",
    "    samples.append([left_words, right_words])\n",
    "    labels.append(wmd_distance)"
   ]
  },
  {
   "cell_type": "code",
   "execution_count": 17,
   "metadata": {},
   "outputs": [],
   "source": [
    "max_ = 50\n",
    "for i in range(len(samples)):\n",
    "    len_ = len(samples[i][0])\n",
    "    if len_ > max_:\n",
    "        samples[i][0] = samples[i][0][: max_]\n",
    "    else:\n",
    "        samples[i][0].extend([0] * (max_ - len_))\n",
    "        \n",
    "    len_ = len(samples[i][1])\n",
    "    if len_ > max_:\n",
    "        samples[i][1] = samples[i][1][: max_]\n",
    "    else:\n",
    "        samples[i][1].extend([0] * (max_ - len_))"
   ]
  },
  {
   "cell_type": "code",
   "execution_count": 18,
   "metadata": {},
   "outputs": [],
   "source": [
    "def euclidean_distance(inputs):\n",
    "    \"\"\"\n",
    "    Calculates the Euclidean distance between two tensors.\n",
    "    \"\"\"\n",
    "    x, y = inputs\n",
    "    distance = tf.sqrt(tf.reduce_sum(tf.square(x - y), axis=1, keepdims=True))\n",
    "    return distance"
   ]
  },
  {
   "cell_type": "code",
   "execution_count": 19,
   "metadata": {},
   "outputs": [],
   "source": [
    "input_shape = (max_,)\n",
    "input_left = tf.keras.Input(shape=input_shape, dtype='int32', name='input_left')\n",
    "input_right = tf.keras.Input(shape=input_shape, dtype='int32', name='input_right')\n",
    "embedding_layer = tf.keras.layers.Embedding(input_dim=len(w2v_model.index_to_key), output_dim=300, input_length=max_)\n",
    "lstm_layer = tf.keras.layers.LSTM(150)\n",
    "left = lstm_layer(embedding_layer(input_left))\n",
    "right = lstm_layer(embedding_layer(input_right))\n",
    "distance_layer = tf.keras.layers.Lambda(euclidean_distance)([left, right])\n",
    "output_layer = tf.keras.layers.Dense(units=1, activation='sigmoid')(distance_layer)\n",
    "model = tf.keras.Model(inputs=[input_left, input_right], outputs=output_layer)\n",
    "model.compile(optimizer='adam', loss='mse')"
   ]
  },
  {
   "cell_type": "code",
   "execution_count": 20,
   "metadata": {},
   "outputs": [],
   "source": [
    "x = [np.array([sample[0] for sample in samples], dtype=np.int32), np.array([sample[1] for sample in samples], dtype=np.int32)]\n",
    "y = np.array(labels, dtype=np.float32)"
   ]
  },
  {
   "cell_type": "code",
   "execution_count": null,
   "metadata": {},
   "outputs": [],
   "source": [
    "# Train the model on the sample data\n",
    "model.fit(x=x, y=y, batch_size=32, epochs=1)"
   ]
  },
  {
   "cell_type": "code",
   "execution_count": 21,
   "metadata": {},
   "outputs": [],
   "source": [
    "def compute_wmd_distance_test(tokens1, tokens2):\n",
    "    try:\n",
    "        distance = w2v_model.wmdistance(tokens1, tokens2)\n",
    "        return distance\n",
    "    except ValueError:\n",
    "        return 0\n",
    "    \n",
    "tokens1all = [text.split() for text in preprocessed_texts1]\n",
    "tokens2all = [text.split() for text in preprocessed_texts2]"
   ]
  },
  {
   "cell_type": "code",
   "execution_count": 33,
   "metadata": {},
   "outputs": [
    {
     "name": "stdout",
     "output_type": "stream",
     "text": [
      "--- 0.40190625190734863 seconds ---\n"
     ]
    }
   ],
   "source": [
    "start_time = time.time()\n",
    "for data in zip(tokens1all, tokens2all):\n",
    "    wmd_distances = compute_wmd_distance_test(data[0], data[1])\n",
    "print(\"--- %s seconds ---\" % (time.time() - start_time))"
   ]
  },
  {
   "cell_type": "code",
   "execution_count": 23,
   "metadata": {},
   "outputs": [],
   "source": [
    "x1 = []\n",
    "x2 = []\n",
    "for text1, text2 in zip(preprocessed_texts1, preprocessed_texts2):\n",
    "    tokenized_text1 = text1.split()\n",
    "    tokenized_text2 = text2.split()\n",
    "    \n",
    "    tmp = [w2v_model.key_to_index[word] if word in w2v_model.index_to_key else 0 for word in tokenized_text1]\n",
    "    len_ = len(tmp)\n",
    "    if len_ > max_:\n",
    "        tmp = tmp[: max_]\n",
    "    else:\n",
    "        tmp.extend([0] * (max_ - len_))\n",
    "    x1.append(tmp)\n",
    "    \n",
    "    tmp = [w2v_model.key_to_index[word] if word in w2v_model.index_to_key else 0 for word in tokenized_text2]\n",
    "    len_ = len(tmp)\n",
    "    if len_ > max_:\n",
    "        tmp = tmp[: max_]\n",
    "    else:\n",
    "        tmp.extend([0] * (max_ - len_))\n",
    "    x2.append(tmp)\n",
    "    "
   ]
  },
  {
   "cell_type": "code",
   "execution_count": 38,
   "metadata": {},
   "outputs": [
    {
     "name": "stdout",
     "output_type": "stream",
     "text": [
      "44/44 [==============================] - 1s 18ms/step\n",
      "--- 0.8751041889190674 seconds ---\n"
     ]
    }
   ],
   "source": [
    "start_time = time.time()\n",
    "wmd_distances = model.predict([np.array(x1), np.array(x2)])\n",
    "print(\"--- %s seconds ---\" % (time.time() - start_time))"
   ]
  },
  {
   "cell_type": "code",
   "execution_count": null,
   "metadata": {},
   "outputs": [],
   "source": []
  }
 ],
 "metadata": {
  "kernelspec": {
   "display_name": "base",
   "language": "python",
   "name": "python3"
  },
  "language_info": {
   "codemirror_mode": {
    "name": "ipython",
    "version": 3
   },
   "file_extension": ".py",
   "mimetype": "text/x-python",
   "name": "python",
   "nbconvert_exporter": "python",
   "pygments_lexer": "ipython3",
   "version": "3.10.9"
  },
  "orig_nbformat": 4
 },
 "nbformat": 4,
 "nbformat_minor": 2
}
